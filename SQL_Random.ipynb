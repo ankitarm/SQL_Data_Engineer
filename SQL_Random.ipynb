{
  "nbformat": 4,
  "nbformat_minor": 0,
  "metadata": {
    "colab": {
      "provenance": [],
      "authorship_tag": "ABX9TyM4XsZGjvrJqon/UHbhdgFr",
      "include_colab_link": true
    },
    "kernelspec": {
      "name": "python3",
      "display_name": "Python 3"
    },
    "language_info": {
      "name": "python"
    }
  },
  "cells": [
    {
      "cell_type": "markdown",
      "metadata": {
        "id": "view-in-github",
        "colab_type": "text"
      },
      "source": [
        "<a href=\"https://colab.research.google.com/github/ankitarm/SQL_Data_Engineer/blob/main/SQL_Random.ipynb\" target=\"_parent\"><img src=\"https://colab.research.google.com/assets/colab-badge.svg\" alt=\"Open In Colab\"/></a>"
      ]
    },
    {
      "cell_type": "markdown",
      "source": [
        "### Find service consistently down for more than 3 minutes.\n",
        "\n",
        "| service\\_name | updated\\_time | status |\n",
        "| ------------- | ------------- | ------ |\n",
        "| hdfs          | 10:02         | down   |\n",
        "| hdfs          | 10:03         | down   |\n",
        "| hdfs          | 10:04         | down   |\n",
        "| hdfs          | 10:05         | down   |\n",
        "| hdfs          | 10:06         | up     |\n",
        "\n",
        "You need to:\n",
        "\n",
        "Detect if a service is \"down\" for more than 3 minutes.\n",
        "\n",
        "Then output:\n",
        "\n",
        "service_name\n",
        "\n",
        "start_time (first down)\n",
        "\n",
        "end_time (when it comes up)\n",
        "\n",
        "duration (only if > 3 mins)\n",
        "```\n",
        "WITH down_only AS (\n",
        "  SELECT *\n",
        "  FROM tracker\n",
        "  WHERE status = 'down'\n",
        "),\n",
        "numbered AS (\n",
        "  SELECT *,\n",
        "         ROW_NUMBER() OVER (PARTITION BY service_name ORDER BY updated_time) AS rn\n",
        "  FROM down_only\n",
        "),\n",
        "grouped AS (\n",
        "  SELECT *,\n",
        "         updated_time - INTERVAL '1 minute' * rn AS grp_key\n",
        "  FROM numbered\n",
        "),\n",
        "aggregated AS (\n",
        "  SELECT service_name,\n",
        "         MIN(updated_time) AS start_time,\n",
        "         MAX(updated_time) AS end_time,\n",
        "         COUNT(*) AS down_count,\n",
        "         'down' AS status\n",
        "  FROM grouped\n",
        "  GROUP BY service_name, grp_key\n",
        ")\n",
        "SELECT service_name, start_time, end_time, status\n",
        "FROM aggregated\n",
        "WHERE EXTRACT(EPOCH FROM end_time - start_time) / 60 > 3;\n",
        "```\n",
        "| Part                                      | Meaning                                                                                                                           |\n",
        "| ----------------------------------------- | --------------------------------------------------------------------------------------------------------------------------------- |\n",
        "| `updated_time`                            | A timestamp showing when the service was checked.                                                                                 |\n",
        "| `rn`                                      | A row number assigned to each row **ordered by updated\\_time**.                                                                   |\n",
        "| `INTERVAL '1 minute' * rn`                | Converts the row number into a **time offset** (1 min, 2 min, etc.).                                                              |\n",
        "| `updated_time - INTERVAL '1 minute' * rn` | Offsets the timestamp backward by the row number → this **normalizes consecutive times** to the same base, so you can group them. |\n",
        "\n",
        "10:02 - 1 min → 10:01\n",
        "\n",
        "10:03 - 2 min → 10:01\n",
        "\n",
        "10:04 - 3 min → 10:01"
      ],
      "metadata": {
        "id": "4hy51uzdZEXb"
      }
    }
  ]
}