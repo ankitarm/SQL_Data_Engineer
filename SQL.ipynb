{
  "nbformat": 4,
  "nbformat_minor": 0,
  "metadata": {
    "colab": {
      "provenance": [],
      "toc_visible": true,
      "authorship_tag": "ABX9TyMtfU8yY0cTkCq7mTEelc4/",
      "include_colab_link": true
    },
    "kernelspec": {
      "name": "python3",
      "display_name": "Python 3"
    },
    "language_info": {
      "name": "python"
    }
  },
  "cells": [
    {
      "cell_type": "markdown",
      "metadata": {
        "id": "view-in-github",
        "colab_type": "text"
      },
      "source": [
        "<a href=\"https://colab.research.google.com/github/ankitarm/SQL_Data_Engineer/blob/main/SQL.ipynb\" target=\"_parent\"><img src=\"https://colab.research.google.com/assets/colab-badge.svg\" alt=\"Open In Colab\"/></a>"
      ]
    },
    {
      "cell_type": "markdown",
      "source": [],
      "metadata": {
        "id": "sDpFZ43kbxf-"
      }
    },
    {
      "cell_type": "markdown",
      "source": [
        "## LeetCode SQL #550: Game Play Analysis IV\n",
        "\n",
        "**Problem Link:** [LeetCode #550](https://leetcode.com/problems/game-play-analysis-iv/)\n",
        "\n",
        "### 🔹 Problem Statement\n",
        "\n",
        "**Table: Person**\n",
        "\n",
        "| Column Name | Type    |\n",
        "|-------------|---------|\n",
        "| personId    | int     |\n",
        "| lastName    | varchar |\n",
        "| firstName   | varchar |\n",
        "\n",
        "- `personId` is the primary key.\n",
        "- This table contains information about some persons and their names.\n",
        "\n",
        "**Table: Address**\n",
        "\n",
        "| Column Name | Type    |\n",
        "|-------------|---------|\n",
        "| addressId   | int     |\n",
        "| personId    | int     |\n",
        "| city        | varchar |\n",
        "| state       | varchar |\n",
        "\n",
        "- `addressId` is the primary key.\n",
        "- Each row contains the city and state of one person.\n",
        "\n",
        "---\n",
        "\n",
        "### ✏️ Task\n",
        "\n",
        "Write a SQL query to report the `firstName`, `lastName`, `city`, and `state` of each person in the `Person` table.  \n",
        "If a person's address is not present in the `Address` table, return `null` in `city` and `state`.\n",
        "\n",
        "---\n",
        "\n",
        "### 📥 Example Input\n",
        "\n",
        "**Person**\n",
        "\n",
        "| personId | lastName | firstName |\n",
        "|----------|----------|-----------|\n",
        "| 1        | Wang     | Allen     |\n",
        "| 2        | Alice    | Bob       |\n",
        "\n",
        "**Address**\n",
        "\n",
        "| addressId | personId | city          | state      |\n",
        "|-----------|----------|---------------|------------|\n",
        "| 1         | 2        | New York City | New York   |\n",
        "| 2         | 3        | Leetcode      | California |\n",
        "\n",
        "---\n",
        "\n",
        "### 📤 Example Output\n",
        "\n",
        "| firstName | lastName | city          | state    |\n",
        "|-----------|----------|---------------|----------|\n",
        "| Allen     | Wang     | null          | null     |\n",
        "| Bob       | Alice    | New York City | New York |\n",
        "\n",
        "---\n",
        "\n",
        "\n",
        "**Solution (SQL):**\n",
        "```sql\n",
        "SELECT ROUND(COUNT(DISTINCT player_id) /\n",
        "             (SELECT COUNT(DISTINCT player_id) FROM Activity), 2) AS fraction\n",
        "FROM Activity\n",
        "WHERE DATEDIFF(event_date,\n",
        "      (SELECT MIN(event_date)\n",
        "       FROM Activity a2\n",
        "       WHERE a1.player_id = a2.player_id)) = 1;\n"
      ],
      "metadata": {
        "id": "l65jfuk2ZWBw"
      }
    },
    {
      "cell_type": "markdown",
      "source": [],
      "metadata": {
        "id": "79n9XWaqWcxE"
      }
    }
  ]
}