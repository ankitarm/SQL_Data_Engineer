{
  "nbformat": 4,
  "nbformat_minor": 0,
  "metadata": {
    "colab": {
      "provenance": [],
      "toc_visible": true,
      "authorship_tag": "ABX9TyOUFBfb7W6WcHn/gZh/spCl",
      "include_colab_link": true
    },
    "kernelspec": {
      "name": "python3",
      "display_name": "Python 3"
    },
    "language_info": {
      "name": "python"
    }
  },
  "cells": [
    {
      "cell_type": "markdown",
      "metadata": {
        "id": "view-in-github",
        "colab_type": "text"
      },
      "source": [
        "<a href=\"https://colab.research.google.com/github/ankitarm/SQL_Data_Engineer/blob/main/SQL_Theory.ipynb\" target=\"_parent\"><img src=\"https://colab.research.google.com/assets/colab-badge.svg\" alt=\"Open In Colab\"/></a>"
      ]
    },
    {
      "cell_type": "markdown",
      "source": [
        "### SQL commands?\n",
        "| SQL Command Type | Description                                       | Examples                             |\n",
        "|------------------|---------------------------------------------------|--------------------------------------|\n",
        "| DDL (Data Definition Language) | Defines database schema and structure        | `CREATE`, `ALTER`, `DROP`, `TRUNCATE` |\n",
        "| DML (Data Manipulation Language) | Manages data within tables                  | `SELECT`, `INSERT`, `UPDATE`, `DELETE` |\n",
        "| DCL (Data Control Language) | Controls access to data                     | `GRANT`, `REVOKE`                    |\n",
        "| TCL (Transaction Control Language) | Manages transactions and changes           | `COMMIT`, `ROLLBACK`, `SAVEPOINT`    |\n",
        "| DQL (Data Query Language) | Retrieves data from the database             | `SELECT`                             |\n"
      ],
      "metadata": {
        "id": "Rfm-23HwRIzW"
      }
    },
    {
      "cell_type": "markdown",
      "source": [
        "###CHAR and VARCHAR data types?\n",
        "| Feature            | CHAR                         | VARCHAR                          |\n",
        "|--------------------|------------------------------|----------------------------------|\n",
        "| Storage Length     | Fixed-length                 | Variable-length                  |\n",
        "| Padding            | Pads with spaces to full length | No padding                       |\n",
        "| Performance        | Faster for fixed-size data   | More efficient for varying sizes |\n",
        "| Storage Usage      | Always uses defined size     | Uses only required space         |\n",
        "| Use Case           | Best for consistent-length data (e.g., codes) | Best for varying-length data (e.g., names) |\n",
        "| Example            | `CHAR(5)` stores `'USA  '` (padded with 2 spaces)      | `VARCHAR(5)` stores `'USA'` (uses only 3 characters)      |\n",
        "| SQL Example        | `CREATE TABLE Country (code CHAR(5));`                | `CREATE TABLE Person (name VARCHAR(50));`                |"
      ],
      "metadata": {
        "id": "v235BV_xS5bj"
      }
    },
    {
      "cell_type": "markdown",
      "source": [
        "### Primary key?\n",
        "a column or a set of columns that uniquely identifies\n",
        "each row in a table. It must contain\n",
        "unique values and cannot contain NULL values."
      ],
      "metadata": {
        "id": "HeXoTgbjTgGK"
      }
    },
    {
      "cell_type": "markdown",
      "source": [
        "### WHERE and HAVING clauses.\n",
        "\n",
        "---\n",
        "\n",
        "| Feature           | WHERE Clause                                 | HAVING Clause                                 |\n",
        "|-------------------|-----------------------------------------------|------------------------------------------------|\n",
        "| Purpose           | Filters rows **before** grouping or aggregation | Filters groups **after** aggregation          |\n",
        "| Applies To        | Individual rows                               | Aggregated/grouped data                       |\n",
        "| Used With         | `SELECT`, `UPDATE`, `DELETE`                  | Only with `SELECT` and **GROUP BY**           |\n",
        "| Aggregate Functions | Cannot use aggregate functions (like SUM, AVG) | Can use aggregate functions                  |\n",
        "| Execution Order   | Applied **first** (before GROUP BY)           | Applied **after GROUP BY and aggregation**    |\n",
        "| Example Usage     | `WHERE age > 30`                              | `HAVING COUNT(*) > 2`                         |\n",
        "\n",
        "\n",
        "---\n",
        "\n",
        "```sql\n",
        "-- Using WHERE to filter rows\n",
        "SELECT * FROM employees\n",
        "WHERE department = 'Sales';\n",
        "\n",
        "-- Using HAVING to filter groups\n",
        "SELECT department, COUNT(*)\n",
        "FROM employees\n",
        "GROUP BY department\n",
        "HAVING COUNT(*) > 10;\n",
        "```\n",
        "\n",
        "How SQL Executes This:\n",
        "```\n",
        "FROM → Get data from tables\n",
        "WHERE → Filter rows\n",
        "GROUP BY → Group the filtered rows\n",
        "HAVING → Filter the grouped results\n",
        "SELECT → Choose the columns to return\n",
        "ORDER BY / LIMIT → Final sorting and limiting\n",
        "```"
      ],
      "metadata": {
        "id": "Q53rP5F9To9X"
      }
    },
    {
      "cell_type": "markdown",
      "source": [
        "### Stored procedure?\n",
        "\n",
        "A stored procedure is a\n",
        "precompiled collection of SQL\n",
        "statements that can be stored and\n",
        "executed in a database. It allows for code\n",
        "reusability and improved performance."
      ],
      "metadata": {
        "id": "y3kn1vrrWmXs"
      }
    },
    {
      "cell_type": "markdown",
      "source": [
        "### UNION and UNION ALL.\n",
        "\n",
        "UNION is used to combine the\n",
        "results of two or more SELECT\n",
        "statements into a single result set,\n",
        "eliminating duplicate rows. UNION ALL\n",
        "also combines the results of SELECT\n",
        "statements, but it retains all rows,\n",
        "including duplicates."
      ],
      "metadata": {
        "id": "X36JqI7EXHTQ"
      }
    },
    {
      "cell_type": "markdown",
      "source": [
        "### Normalization?\n",
        "Normalization is the process of\n",
        "organizing data in a database to minimize\n",
        "redundancy and dependency by dividing\n",
        "large tables into smaller tables and\n",
        "defining relationships between them."
      ],
      "metadata": {
        "id": "GfFKEbMpXM_1"
      }
    },
    {
      "cell_type": "markdown",
      "source": [
        "### Denormalization?\n",
        "Denormalization is the process\n",
        "of adding redundant data to a\n",
        "normalized database to improve read\n",
        "performance by reducing the number of\n",
        "joins needed to retrieve data."
      ],
      "metadata": {
        "id": "QXLZOPWLXmj-"
      }
    },
    {
      "cell_type": "markdown",
      "source": [
        "### ACID properties.\n",
        "| Property      | Description                                                                 |\n",
        "|---------------|-----------------------------------------------------------------------------|\n",
        "| **A - Atomicity**   | Ensures that a transaction is **all or nothing** — either all operations succeed, or none do. |\n",
        "| **C - Consistency** | Ensures the database remains in a **valid state** before and after the transaction.        |\n",
        "| **I - Isolation**   | Ensures that concurrent transactions **do not interfere** with each other.               |\n",
        "| **D - Durability**  | Once a transaction is committed, the **changes are permanent**, even in case of a crash. |\n",
        "\n",
        "\n",
        " 💡 Transaction Steps (in SQL):\n",
        "\n",
        "```sql\n",
        "BEGIN TRANSACTION;\n",
        "\n",
        "-- Step 1: Deduct $100 from Account A\n",
        "UPDATE accounts\n",
        "SET balance = balance - 100\n",
        "WHERE account_id = 'A';\n",
        "\n",
        "-- Step 2: Add $100 to Account B\n",
        "UPDATE accounts\n",
        "SET balance = balance + 100\n",
        "WHERE account_id = 'B';\n",
        "\n",
        "-- Step 3: Commit the transaction\n",
        "COMMIT;\n",
        "```\n",
        "\n",
        "---\n",
        "\n",
        " 🔄 Transaction Flow Diagram\n",
        "\n",
        "```markdown\n",
        "Start Transaction\n",
        "     |\n",
        "     v\n",
        "[ Deduct $100 from A ]      --> (Atomicity: If this fails, everything rolls back)\n",
        "     |\n",
        "     v\n",
        "[ Add $100 to B ]           --> (Consistency: Ensures total funds are correct)\n",
        "     |\n",
        "     v\n",
        "[ COMMIT ]                  --> (Durability: Changes are now permanent)\n",
        "     |\n",
        "     v\n",
        "[ Other users see changes ] --> (Isolation: No user sees partial changes)\n",
        "```\n",
        "\n",
        "---\n",
        "\n",
        " 📋 ACID Explained with This Example\n",
        "\n",
        "| Property        | How It Applies in the Transfer Scenario                                   |\n",
        "| --------------- | ------------------------------------------------------------------------- |\n",
        "| **Atomicity**   | If either deduction or addition fails, **both changes are rolled back**.  |\n",
        "| **Consistency** | The **total money remains consistent** in the system after the transfer.  |\n",
        "| **Isolation**   | Other transactions can’t see the transfer **until it’s fully committed**. |\n",
        "| **Durability**  | Even if the system crashes right after commit, **changes are saved**.     |\n"
      ],
      "metadata": {
        "id": "0nkSHj8EX69o"
      }
    },
    {
      "cell_type": "markdown",
      "source": [
        "### VIEW and a materialized view\n",
        "```markdown\n",
        "| Feature               | View                                      | Materialized View                          |\n",
        "|------------------------|-------------------------------------------|---------------------------------------------|\n",
        "| Definition             | Virtual table based on a SQL query        | Physical table storing query results        |\n",
        "| Storage                | Does **not** store data                   | **Stores** data physically                  |\n",
        "| Data Freshness         | Always reflects latest data               | Needs to be **refreshed** manually or on schedule |\n",
        "| Performance            | Slower for large data (recomputes each time) | Faster as data is precomputed              |\n",
        "| Update Frequency       | Always current                            | Can be **stale** until refreshed            |\n",
        "| Use Case               | Real-time querying, lightweight reporting | Caching heavy queries, performance boost    |\n",
        "| Maintenance            | No maintenance required                   | Requires **refresh strategy** (manual/on commit/on schedule) |\n",
        "```\n",
        "\n",
        "---\n",
        "\n",
        " 💡 Example:\n",
        "\n",
        " 🔹 View\n",
        "\n",
        "```sql\n",
        "CREATE VIEW active_users AS\n",
        "SELECT * FROM users WHERE status = 'active';\n",
        "```\n",
        "\n",
        " 🔹 Materialized View (in PostgreSQL or Oracle)\n",
        "\n",
        "```sql\n",
        "CREATE MATERIALIZED VIEW active_users_mv AS\n",
        "SELECT * FROM users WHERE status = 'active';\n",
        "```\n",
        "\n",
        "To refresh:\n",
        "\n",
        "```sql\n",
        "REFRESH MATERIALIZED VIEW active_users_mv;\n",
        "```"
      ],
      "metadata": {
        "id": "o2MTd3g39WWI"
      }
    },
    {
      "cell_type": "markdown",
      "source": [
        "### CLUSTERED and NON-CLUSTERED index?\n",
        " A clustered index determines\n",
        " the physical order of rows in a table and\n",
        " is created on the primary key column(s)\n",
        " by default. A non-clustered index does\n",
        " not affect the physical order of rows and\n",
        " is stored separately from the table data.\n",
        " Great question! Let’s break down the difference between **CLUSTERED** and **NON-CLUSTERED** indexes in a way that’s super easy to understand.\n",
        "\n",
        "---\n",
        "\n",
        " 📚 Real-World Analogy: Think of a Book\n",
        "\n",
        "* **CLUSTERED INDEX** = The **main content pages**, sorted in a specific order.\n",
        "* **NON-CLUSTERED INDEX** = The **index pages at the back** of a book, pointing to specific pages.\n",
        "\n",
        "---\n",
        "\n",
        " ✅ Google Colab Markdown Table\n",
        "\n",
        "```markdown\n",
        "| Feature              | CLUSTERED INDEX                               | NON-CLUSTERED INDEX                           |\n",
        "|----------------------|------------------------------------------------|------------------------------------------------|\n",
        "| Data Storage         | **Stores actual data** in sorted order         | Stores **pointers** to the actual data         |\n",
        "| Number Allowed       | Only **one** per table                         | Can have **multiple**                         |\n",
        "| Sorting              | Data is physically sorted by this index        | Doesn’t affect data’s physical order           |\n",
        "| Speed                | Faster for **range queries**                   | Faster for **point lookups** (exact matches)   |\n",
        "| Example Use Case     | Sorting by `OrderDate` in an orders table      | Searching for users by `Email` or `Phone`      |\n",
        "```\n",
        "\n",
        "---\n",
        "\n",
        " 💡 Example in SQL\n",
        "\n",
        " 📌 Clustered Index (usually created by default on the **Primary Key**):\n",
        "\n",
        "```sql\n",
        "CREATE TABLE employees (\n",
        "    emp_id INT PRIMARY KEY, -- This is a clustered index\n",
        "    name VARCHAR(100),\n",
        "    department VARCHAR(50)\n",
        ");\n",
        "```\n",
        "\n",
        " 🔍 Non-Clustered Index:\n",
        "\n",
        "```sql\n",
        "CREATE NONCLUSTERED INDEX idx_dept\n",
        "ON employees(department);\n",
        "```\n",
        "\n",
        "---\n",
        " 🧠 Summary:\n",
        "\n",
        "* **CLUSTERED INDEX**: Sorts and stores the actual rows of data in the table. Only one allowed.\n",
        "* **NON-CLUSTERED INDEX**: Has a separate structure that points to the rows. You can have many of these.\n",
        "\n"
      ],
      "metadata": {
        "id": "LZOXV9fJYjAz"
      }
    },
    {
      "cell_type": "markdown",
      "source": [
        "###DELETE and TRUNCATE commands?\n",
        " DELETE is a DML command\n",
        " used to remove rows from a table based\n",
        " on a specified condition, while\n",
        " TRUNCATE is a DDL command used to\n",
        " remove all rows from a table without\n",
        " generating a log of individual row\n",
        " deletions"
      ],
      "metadata": {
        "id": "SoRCE5CkYsKK"
      }
    },
    {
      "cell_type": "markdown",
      "source": [
        "### VIEW and a TABLE?\n",
        "A table is a physical structure\n",
        " that stores data, while a view is a virtual\n",
        " table that does not store data itself but\n",
        " provides a way to present data stored in\n",
        " one or more tables"
      ],
      "metadata": {
        "id": "oIjLJBPuZRuL"
      }
    },
    {
      "cell_type": "markdown",
      "source": [
        "### TRIGGER?\n",
        " A trigger is a database object\n",
        " that automatically executes a specified\n",
        " set of SQL statements when certain\n",
        " events occur, such as inserting, updating,\n",
        " or deleting rows from a table"
      ],
      "metadata": {
        "id": "QdxNsJmYZYcT"
      }
    },
    {
      "cell_type": "markdown",
      "source": [
        "### UNIQUE key and a PRIMARY key?\n",
        "\n",
        "No worries! Let me explain in a **very simple way** with **real-world examples** so you can easily understand the **difference between a PRIMARY KEY and a UNIQUE key**.\n",
        "\n",
        "---\n",
        "\n",
        " 📦 Think of a Table Like a Classroom\n",
        "\n",
        "Imagine a table like a list of students in a classroom.\n",
        "\n",
        "| student\\_id | name    | email                                         |\n",
        "| ----------- | ------- | --------------------------------------------- |\n",
        "| 1           | Alice   | [alice@email.com](mailto:alice@email.com)     |\n",
        "| 2           | Bob     | [bob@email.com](mailto:bob@email.com)         |\n",
        "| 3           | Charlie | [charlie@email.com](mailto:charlie@email.com) |\n",
        "\n",
        "---\n",
        "\n",
        " 🔑 PRIMARY KEY\n",
        "\n",
        "* It's like a **roll number**.\n",
        "* It **must be unique** — no two students can have the same roll number.\n",
        "* It **cannot be empty** — every student **must have** a roll number.\n",
        "\n",
        "💡 So `student_id` is a **PRIMARY KEY**.\n",
        "\n",
        "---\n",
        "\n",
        " ✅ UNIQUE KEY\n",
        "\n",
        "* It's like an **email address**.\n",
        "* It should also be **unique** — no two students should have the same email.\n",
        "* But it's **OK if someone doesn't have an email** — meaning it can be **NULL**.\n",
        "\n",
        "💡 So `email` can be a **UNIQUE KEY**.\n",
        "\n",
        "---\n",
        "\n",
        " 🔄 Main Differences\n",
        "\n",
        "| Feature        | PRIMARY KEY                  | UNIQUE KEY                    |\n",
        "| -------------- | ---------------------------- | ----------------------------- |\n",
        "| Must be unique | ✅ Yes                        | ✅ Yes                         |\n",
        "| Can be NULL?   | ❌ No                         | ✅ Yes                         |\n",
        "| How many?      | Only **one** per table       | Can have **many**             |\n",
        "| Main use       | Identifies each row uniquely | Enforces uniqueness on column |\n",
        "\n",
        "---\n",
        "\n",
        " 📌 Summary\n",
        "\n",
        "* Use **PRIMARY KEY** to uniquely identify each row (like `student_id`).\n",
        "* Use **UNIQUE KEY** to make sure no duplicates exist (like email), but it's optional (can be NULL).\n"
      ],
      "metadata": {
        "id": "hi_akTyU0Jqw"
      }
    },
    {
      "cell_type": "markdown",
      "source": [
        "###correlated and a non-correlated subquery?\n",
        "A correlated subquery is a\n",
        " subquery that depends on the outer\n",
        " query for its values, while a non\n",
        "correlated subquery can be executed\n",
        " independently of the outer query.\n"
      ],
      "metadata": {
        "id": "z6Pj96WN1A1O"
      }
    },
    {
      "cell_type": "markdown",
      "source": [
        " ### COMMIT and ROLLBACK commands?\n",
        "\n",
        " Here's a simple explanation of the **COMMIT** and **ROLLBACK** commands in SQL, with a **Google Colab Markdown** table format:\n",
        "\n",
        "```markdown\n",
        "| Command   | Purpose                                                                 |\n",
        "|-----------|-------------------------------------------------------------------------|\n",
        "| COMMIT    | Saves all the changes made in the current transaction **permanently** to the database. |\n",
        "| ROLLBACK  | **Undoes** all changes made in the current transaction, restoring the previous state.   |\n",
        "```\n",
        "\n",
        "---\n",
        "\n",
        " ✅ When to Use:\n",
        "\n",
        "* **Use `COMMIT`** when:\n",
        "\n",
        "  * All your operations are successful.\n",
        "  * You’re confident the data is correct and ready to be saved.\n",
        "* **Use `ROLLBACK`** when:\n",
        "\n",
        "  * An error occurs mid-transaction.\n",
        "  * You want to cancel all operations performed so far.\n",
        "\n",
        "---\n",
        "\n",
        " 💡 Example:\n",
        "\n",
        "```sql\n",
        "BEGIN TRANSACTION;\n",
        "\n",
        "UPDATE accounts\n",
        "SET balance = balance - 100\n",
        "WHERE account_id = 'A';\n",
        "\n",
        "-- Suppose an error happens here (e.g., balance too low or B doesn't exist)\n",
        "\n",
        "UPDATE accounts\n",
        "SET balance = balance + 100\n",
        "WHERE account_id = 'B';\n",
        "\n",
        "-- If everything is okay\n",
        "COMMIT;\n",
        "\n",
        "-- If something fails\n",
        "ROLLBACK;\n",
        "```"
      ],
      "metadata": {
        "id": "vM3yKBI_8MsD"
      }
    },
    {
      "cell_type": "markdown",
      "source": [
        " ### COALESCE()\n",
        "\n",
        "The **`COALESCE()`** function in SQL is used to **return the first non-NULL value** from a list of expressions.\n",
        "\n",
        "---\n",
        " 🧠 **Purpose**:\n",
        "\n",
        "To **handle NULL values** by providing a default or fallback value in queries.\n",
        "\n",
        "---\n",
        "\n",
        " ✅ **Google Colab Markdown Table**:\n",
        "\n",
        "```markdown\n",
        "| Feature         | Description                                                              |\n",
        "|-----------------|---------------------------------------------------------------------------|\n",
        "| Function Name   | COALESCE()                                                                |\n",
        "| Purpose         | Returns the **first non-NULL** value from the list of arguments           |\n",
        "| Common Use Case | Replacing NULLs with default values in SELECT statements                 |\n",
        "| Returns         | NULL only if **all** arguments are NULL                                   |\n",
        "```\n",
        "\n",
        "---\n",
        "\n",
        " 💡 **Syntax**:\n",
        "\n",
        "```sql\n",
        "COALESCE(expression1, expression2, ..., expressionN)\n",
        "```\n",
        "\n",
        "---\n",
        "\n",
        " 🔹 **Example**:\n",
        "\n",
        " SQL Query:\n",
        "\n",
        "```sql\n",
        "SELECT name, COALESCE(phone, 'No Phone') AS contact_info\n",
        "FROM employees;\n",
        "```\n",
        "\n",
        " Meaning:\n",
        "\n",
        "* If `phone` is `NULL`, it will return `\"No Phone\"` instead.\n",
        "* If `phone` has a value, it returns that value.\n",
        "\n",
        "---\n"
      ],
      "metadata": {
        "id": "w-0JTfqO1N2E"
      }
    }
  ]
}